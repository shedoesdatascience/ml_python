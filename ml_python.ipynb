{
 "cells": [
  {
   "cell_type": "markdown",
   "metadata": {},
   "source": [
    "---\n",
    "\n",
    "_You are currently looking at **version 1.0** of this notebook. To download notebooks and datafiles, as well as get help on Jupyter notebooks in the Coursera platform, visit the [Jupyter Notebook FAQ](https://www.coursera.org/learn/python-machine-learning/resources/bANLa) course resource._\n",
    "\n",
    "---"
   ]
  },
  {
   "cell_type": "markdown",
   "metadata": {},
   "source": [
    "## Assignment 4 - Understanding and Predicting Property Maintenance Fines\n",
    "\n",
    "This assignment is based on a data challenge from the Michigan Data Science Team ([MDST](http://midas.umich.edu/mdst/)). \n",
    "\n",
    "The Michigan Data Science Team ([MDST](http://midas.umich.edu/mdst/)) and the Michigan Student Symposium for Interdisciplinary Statistical Sciences ([MSSISS](https://sites.lsa.umich.edu/mssiss/)) have partnered with the City of Detroit to help solve one of the most pressing problems facing Detroit - blight. [Blight violations](http://www.detroitmi.gov/How-Do-I/Report/Blight-Complaint-FAQs) are issued by the city to individuals who allow their properties to remain in a deteriorated condition. Every year, the city of Detroit issues millions of dollars in fines to residents and every year, many of these fines remain unpaid. Enforcing unpaid blight fines is a costly and tedious process, so the city wants to know: how can we increase blight ticket compliance?\n",
    "\n",
    "The first step in answering this question is understanding when and why a resident might fail to comply with a blight ticket. This is where predictive modeling comes in. For this assignment, your task is to predict whether a given blight ticket will be paid on time.\n",
    "\n",
    "All data for this assignment has been provided to us through the [Detroit Open Data Portal](https://data.detroitmi.gov/). **Only the data already included in your Coursera directory can be used for training the model for this assignment.** Nonetheless, we encourage you to look into data from other Detroit datasets to help inform feature creation and model selection. We recommend taking a look at the following related datasets:\n",
    "\n",
    "* [Building Permits](https://data.detroitmi.gov/Property-Parcels/Building-Permits/xw2a-a7tf)\n",
    "* [Trades Permits](https://data.detroitmi.gov/Property-Parcels/Trades-Permits/635b-dsgv)\n",
    "* [Improve Detroit: Submitted Issues](https://data.detroitmi.gov/Government/Improve-Detroit-Submitted-Issues/fwz3-w3yn)\n",
    "* [DPD: Citizen Complaints](https://data.detroitmi.gov/Public-Safety/DPD-Citizen-Complaints-2016/kahe-efs3)\n",
    "* [Parcel Map](https://data.detroitmi.gov/Property-Parcels/Parcel-Map/fxkw-udwf)\n",
    "\n",
    "___\n",
    "\n",
    "We provide you with two data files for use in training and validating your models: train.csv and test.csv. Each row in these two files corresponds to a single blight ticket, and includes information about when, why, and to whom each ticket was issued. The target variable is compliance, which is True if the ticket was paid early, on time, or within one month of the hearing data, False if the ticket was paid after the hearing date or not at all, and Null if the violator was found not responsible. Compliance, as well as a handful of other variables that will not be available at test-time, are only included in train.csv.\n",
    "\n",
    "Note: All tickets where the violators were found not responsible are not considered during evaluation. They are included in the training set as an additional source of data for visualization, and to enable unsupervised and semi-supervised approaches. However, they are not included in the test set.\n",
    "\n",
    "<br>\n",
    "\n",
    "**File descriptions** (Use only this data for training your model!)\n",
    "\n",
    "    train.csv - the training set (all tickets issued 2004-2011)\n",
    "    test.csv - the test set (all tickets issued 2012-2016)\n",
    "    addresses.csv & latlons.csv - mapping from ticket id to addresses, and from addresses to lat/lon coordinates. \n",
    "     Note: misspelled addresses may be incorrectly geolocated.\n",
    "\n",
    "<br>\n",
    "\n",
    "**Data fields**\n",
    "\n",
    "train.csv & test.csv\n",
    "\n",
    "    ticket_id - unique identifier for tickets\n",
    "    agency_name - Agency that issued the ticket\n",
    "    inspector_name - Name of inspector that issued the ticket\n",
    "    violator_name - Name of the person/organization that the ticket was issued to\n",
    "    violation_street_number, violation_street_name, violation_zip_code - Address where the violation occurred\n",
    "    mailing_address_str_number, mailing_address_str_name, city, state, zip_code, non_us_str_code, country - Mailing address of the violator\n",
    "    ticket_issued_date - Date and time the ticket was issued\n",
    "    hearing_date - Date and time the violator's hearing was scheduled\n",
    "    violation_code, violation_description - Type of violation\n",
    "    disposition - Judgment and judgement type\n",
    "    fine_amount - Violation fine amount, excluding fees\n",
    "    admin_fee - $20 fee assigned to responsible judgments\n",
    "state_fee - $10 fee assigned to responsible judgments\n",
    "    late_fee - 10% fee assigned to responsible judgments\n",
    "    discount_amount - discount applied, if any\n",
    "    clean_up_cost - DPW clean-up or graffiti removal cost\n",
    "    judgment_amount - Sum of all fines and fees\n",
    "    grafitti_status - Flag for graffiti violations\n",
    "    \n",
    "train.csv only\n",
    "\n",
    "    payment_amount - Amount paid, if any\n",
    "    payment_date - Date payment was made, if it was received\n",
    "    payment_status - Current payment status as of Feb 1 2017\n",
    "    balance_due - Fines and fees still owed\n",
    "    collection_status - Flag for payments in collections\n",
    "    compliance [target variable for prediction] \n",
    "     Null = Not responsible\n",
    "     0 = Responsible, non-compliant\n",
    "     1 = Responsible, compliant\n",
    "    compliance_detail - More information on why each ticket was marked compliant or non-compliant\n",
    "\n",
    "\n",
    "___\n",
    "\n",
    "## Evaluation\n",
    "\n",
    "Your predictions will be given as the probability that the corresponding blight ticket will be paid on time.\n",
    "\n",
    "The evaluation metric for this assignment is the Area Under the ROC Curve (AUC). \n",
    "\n",
    "Your grade will be based on the AUC score computed for your classifier. A model which with an AUROC of 0.7 passes this assignment, over 0.75 will recieve full points.\n",
    "___\n",
    "\n",
    "For this assignment, create a function that trains a model to predict blight ticket compliance in Detroit using `train.csv`. Using this model, return a series of length 61001 with the data being the probability that each corresponding ticket from `test.csv` will be paid, and the index being the ticket_id.\n",
    "\n",
    "Example:\n",
    "\n",
    "    ticket_id\n",
    "       284932    0.531842\n",
    "       285362    0.401958\n",
    "       285361    0.105928\n",
    "       285338    0.018572\n",
    "                 ...\n",
    "       376499    0.208567\n",
    "       376500    0.818759\n",
    "       369851    0.018528\n",
    "       Name: compliance, dtype: float32"
   ]
  },
  {
   "cell_type": "code",
   "execution_count": 3,
   "metadata": {},
   "outputs": [
    {
     "name": "stderr",
     "output_type": "stream",
     "text": [
      "C:\\Users\\srivastavas\\AppData\\Local\\Continuum\\anaconda3\\lib\\site-packages\\IPython\\core\\interactiveshell.py:3020: DtypeWarning: Columns (11,12,31) have mixed types. Specify dtype option on import or set low_memory=False.\n",
      "  interactivity=interactivity, compiler=compiler, result=result)\n"
     ]
    }
   ],
   "source": [
    "import pandas as pd\n",
    "import numpy as np\n",
    "import seaborn as sn\n",
    "import matplotlib.pyplot as plt\n",
    "\n",
    "from sklearn.model_selection import train_test_split\n",
    "from sklearn.datasets import make_classification, make_blobs\n",
    "from sklearn.preprocessing import LabelEncoder\n",
    "\n",
    "train_df = pd.read_csv('train.csv',encoding ='latin1')\n",
    "test_df = pd.read_csv('test.csv')\n",
    "latlon_df = pd.read_csv('latlons.csv')\n",
    "addresses_df = pd.read_csv('addresses.csv')\n",
    "\n",
    "#get list of column names\n",
    "#print(list(train_df.columns.values))\n",
    "#print(list(test_df.columns.values))\n",
    "\n",
    "#get summary stats\n",
    "\n",
    "#print(new_train_df.describe(include = ['object']))\n",
    "#which columns are similar\n",
    "#print(set(train_df.columns).intersection(set(test_df.columns)))\n",
    "\n",
    "#These columns are not in test set and may be proxy indicators for compliance status\n",
    "new_train_df = train_df.drop(columns=['payment_amount', 'payment_date', 'payment_status', 'balance_due', 'collection_status',\n",
    "                                     'compliance_detail'])\n",
    "\n",
    "#remove all rows where compliance is not an issue as these people don't have to pay ticket\n",
    "new_train_df = new_train_df[pd.notnull(new_train_df['compliance'])]\n",
    "#remove columns that are similar \n",
    "#print(set(new_train_df.columns).intersection(set(test_df.columns)))\n",
    "\n",
    "\n",
    "#dummify disposition, agency_name(5) \n",
    "agency_ind = pd.get_dummies(new_train_df['agency_name'])\n",
    "disposition_ind = pd.get_dummies(new_train_df['disposition'])\n",
    "country_ind = pd.get_dummies(new_train_df['country'])\n",
    "#city_ind = pd.get_dummies(new_train_df['city']) too many weird values to keep\n",
    "\n",
    "#feature engineering for date values\n",
    "new_train_df['ticket_issued_date'] = pd.to_datetime(new_train_df['ticket_issued_date'])\n",
    "new_train_df['hearing_date'] = pd.to_datetime(new_train_df['hearing_date'])\n",
    "\n",
    "\n",
    "\n",
    "new_train_df['ticket_duration'] = (new_train_df['hearing_date']- new_train_df['ticket_issued_date']).dt.days\n",
    "new_train_df['ticket_duration'].fillna(-999,inplace = True)\n",
    "new_train_df['fine_amount'].fillna(-999, inplace = True)\n",
    "\n",
    "\n",
    "\n",
    "#concatenate dummy variables\n",
    "new_train_df = pd.concat([new_train_df,agency_ind],axis=1)\n",
    "new_train_df  = pd.concat([new_train_df,disposition_ind],axis=1)\n",
    "new_train_df = pd.concat([new_train_df,country_ind],axis=1)\n",
    "#new_train_df = pd.concat([new_train_df,city_ind],axis=1)\n",
    "#count number of NA/missing for each column in dataframe\n",
    "#new_train_df.isnull().sum()\n",
    "\n",
    "#remove descriptive variables as will create too many dummy vars\n",
    "new_train2_df = new_train_df.drop(columns=['ticket_id', 'agency_name', 'inspector_name', 'violator_name', \n",
    "                                           'violation_street_number','violation_street_name', 'violation_zip_code',\n",
    "                                           'mailing_address_str_number', 'mailing_address_str_name', 'city',\n",
    "                                           'state', 'country', 'zip_code', \n",
    "                                           'non_us_str_code', 'ticket_issued_date', 'hearing_date', 'violation_code',\n",
    "                                           'violation_description', 'disposition', 'grafitti_status'])\n",
    "\n",
    " \n",
    "#new_train2_df = new_train_df.dropna(how='all')\n",
    "#new_train2_df.isnull().sum() #no nas remaining\n",
    "\n",
    "\n",
    "\n",
    "#define training and validation sets\n",
    "y_train = new_train2_df['compliance']\n",
    "X_train = new_train2_df.drop(columns=['compliance'])\n",
    "\n",
    "X_train, X_val, y_train, y_val = train_test_split(X_train, y_train,\n",
    "                                                   random_state = 0)\n",
    "\n",
    "\n",
    "\n",
    "\n",
    "#fix test set for model\n",
    "t_agency_ind = pd.get_dummies(test_df['agency_name'])\n",
    "t_disposition_ind = pd.get_dummies(test_df['disposition'])\n",
    "#print(t_disposition_ind.head())\n",
    "t_country_ind = pd.get_dummies(test_df['country'])\n",
    "#print(t_country_ind.head())\n",
    "test_df['ticket_issued_date'] = pd.to_datetime(test_df['ticket_issued_date'])\n",
    "test_df['hearing_date'] = pd.to_datetime(test_df['hearing_date'])\n",
    "\n",
    "\n",
    "\n",
    "test_df['ticket_duration'] = (test_df['hearing_date']- test_df['ticket_issued_date']).dt.days\n",
    "test_df['ticket_duration'].fillna(-999,inplace = True)\n",
    "test_df['fine_amount'].fillna(-999, inplace = True)\n",
    "\n",
    "test_df = pd.concat([test_df,t_agency_ind],axis=1)\n",
    "test_df  = pd.concat([test_df,t_disposition_ind],axis=1)\n",
    "test_df = pd.concat([test_df,t_country_ind],axis=1)\n",
    "\n",
    "\n",
    "new_test_df = test_df.drop(columns=['ticket_id', 'agency_name', 'inspector_name', 'violator_name', \n",
    "                                           'violation_street_number','violation_street_name', 'violation_zip_code',\n",
    "                                           'mailing_address_str_number', 'mailing_address_str_name', 'city',\n",
    "                                           'state', 'country', 'zip_code', \n",
    "                                           'non_us_str_code', 'ticket_issued_date', 'hearing_date', 'violation_code',\n",
    "                                           'violation_description', 'disposition', 'grafitti_status'])\n",
    "\n",
    "\n",
    "X_test = new_test_df\n",
    "#y_test = new_test_df.drop(columns=['compliance'])\n",
    "\n",
    "#new_test_df.isnull().sum() #no nas remaining\n",
    "#new_train_df.isnull().sum() \n",
    "\n",
    "\n",
    "\n"
   ]
  },
  {
   "cell_type": "code",
   "execution_count": 7,
   "metadata": {},
   "outputs": [
    {
     "name": "stdout",
     "output_type": "stream",
     "text": [
      "Accuracy: 94.37%\n"
     ]
    },
    {
     "name": "stderr",
     "output_type": "stream",
     "text": [
      "C:\\Users\\srivastavas\\AppData\\Local\\Continuum\\anaconda3\\lib\\site-packages\\matplotlib\\figure.py:98: MatplotlibDeprecationWarning: \n",
      "Adding an axes using the same arguments as a previous axes currently reuses the earlier instance.  In a future version, a new instance will always be created and returned.  Meanwhile, this warning can be suppressed, and the future behavior ensured, by passing a unique label to each axes instance.\n",
      "  \"Adding an axes using the same arguments as a previous axes \"\n"
     ]
    },
    {
     "data": {
      "image/png": "[encoded data removed]",
      "text/plain": [
       "<Figure size 432x288 with 1 Axes>"
      ]
     },
     "metadata": {
      "needs_background": "light"
     },
     "output_type": "display_data"
    },
    {
     "data": {
      "text/plain": [
       "0.9436827620715537"
      ]
     },
     "execution_count": 7,
     "metadata": {},
     "output_type": "execute_result"
    }
   ],
   "source": [
    "def gbm_model(X_train, X_val, X_test,y_train,y_val):\n",
    "    from sklearn.metrics import roc_curve, auc\n",
    "    from sklearn.metrics import accuracy_score\n",
    "    from sklearn.ensemble import GradientBoostingClassifier\n",
    "    import matplotlib.pyplot as plt\n",
    "\n",
    "# fit model no training data\n",
    "    clf = GradientBoostingClassifier(learning_rate = 0.1, max_depth = 5).fit(X_train, y_train)\n",
    "    \n",
    "\n",
    "# make predictions for test data\n",
    "    y_pred = clf.predict(X_val)\n",
    "    predictions = [round(value) for value in y_pred]\n",
    "# evaluate predictions\n",
    "    accuracy = accuracy_score(y_val, predictions)\n",
    "    print(\"Accuracy: %.2f%%\" % (accuracy * 100.0))\n",
    "    \n",
    "    fpr_lr, tpr_lr, _ = roc_curve(y_val, predictions)\n",
    "    roc_auc_lr = auc(fpr_lr, tpr_lr)\n",
    "    \n",
    "    plt.figure()\n",
    "    plt.xlim([-0.01, 1.00])\n",
    "    plt.ylim([-0.01, 1.01])\n",
    "    plt.plot(fpr_lr, tpr_lr, lw=3, label='GBM ROC curve (area = {:0.2f})'.format(roc_auc_lr))\n",
    "    plt.xlabel('False Positive Rate', fontsize=16)\n",
    "    plt.ylabel('True Positive Rate', fontsize=16)\n",
    "    plt.title('ROC curve', fontsize=16)\n",
    "    plt.legend(loc='lower right', fontsize=13)\n",
    "    plt.plot([0, 1], [0, 1], color='navy', lw=3, linestyle='--')\n",
    "    plt.axes().set_aspect('equal')\n",
    "    plt.show()\n",
    "    \n",
    "    # Your code here\n",
    "    \n",
    "    return(accuracy) # Your answer here\n",
    "gbm_model(X_train, X_val, X_test,y_train, y_val)"
   ]
  },
  {
   "cell_type": "code",
   "execution_count": 9,
   "metadata": {},
   "outputs": [
    {
     "name": "stderr",
     "output_type": "stream",
     "text": [
      "C:\\Users\\srivastavas\\AppData\\Local\\Continuum\\anaconda3\\lib\\site-packages\\sklearn\\ensemble\\forest.py:246: FutureWarning: The default value of n_estimators will change from 10 in version 0.20 to 100 in 0.22.\n",
      "  \"10 in version 0.20 to 100 in 0.22.\", FutureWarning)\n"
     ]
    },
    {
     "name": "stdout",
     "output_type": "stream",
     "text": [
      "Accuracy: 93.94%\n"
     ]
    },
    {
     "name": "stderr",
     "output_type": "stream",
     "text": [
      "C:\\Users\\srivastavas\\AppData\\Local\\Continuum\\anaconda3\\lib\\site-packages\\matplotlib\\figure.py:98: MatplotlibDeprecationWarning: \n",
      "Adding an axes using the same arguments as a previous axes currently reuses the earlier instance.  In a future version, a new instance will always be created and returned.  Meanwhile, this warning can be suppressed, and the future behavior ensured, by passing a unique label to each axes instance.\n",
      "  \"Adding an axes using the same arguments as a previous axes \"\n"
     ]
    },
    {
     "data": {
      "image/png": "[encoded data removed]",
      "text/plain": [
       "<Figure size 432x288 with 1 Axes>"
      ]
     },
     "metadata": {
      "needs_background": "light"
     },
     "output_type": "display_data"
    },
    {
     "data": {
      "text/plain": [
       "0.9393795346509882"
      ]
     },
     "execution_count": 9,
     "metadata": {},
     "output_type": "execute_result"
    }
   ],
   "source": [
    "def randforest_model(X_train, X_val, X_test,y_train,y_val):\n",
    "    from sklearn.metrics import roc_curve, auc\n",
    "    from sklearn.metrics import accuracy_score\n",
    "    from sklearn.ensemble import RandomForestClassifier\n",
    "    import matplotlib.pyplot as plt\n",
    "    \n",
    "    clf = RandomForestClassifier().fit(X_train, y_train)\n",
    "\n",
    "# make predictions for test data\n",
    "    y_pred = clf.predict(X_val)\n",
    "    predictions = [round(value) for value in y_pred]\n",
    "# evaluate predictions\n",
    "    accuracy = accuracy_score(y_val, predictions)\n",
    "    print(\"Accuracy: %.2f%%\" % (accuracy * 100.0))\n",
    "    \n",
    "    fpr_lr, tpr_lr, _ = roc_curve(y_val, predictions)\n",
    "    roc_auc_lr = auc(fpr_lr, tpr_lr)\n",
    "    \n",
    "    plt.figure()\n",
    "    plt.xlim([-0.01, 1.00])\n",
    "    plt.ylim([-0.01, 1.01])\n",
    "    plt.plot(fpr_lr, tpr_lr, lw=3, label='RF ROC curve (area = {:0.2f})'.format(roc_auc_lr))\n",
    "    plt.xlabel('False Positive Rate', fontsize=16)\n",
    "    plt.ylabel('True Positive Rate', fontsize=16)\n",
    "    plt.title('ROC curve', fontsize=16)\n",
    "    plt.legend(loc='lower right', fontsize=13)\n",
    "    plt.plot([0, 1], [0, 1], color='navy', lw=3, linestyle='--')\n",
    "    plt.axes().set_aspect('equal')\n",
    "    plt.show()\n",
    "    \n",
    "    # Your code here\n",
    "    \n",
    "    return(accuracy) # Your answer here\n",
    "\n",
    "randforest_model(X_train, X_val, X_test,y_train, y_val)"
   ]
  },
  {
   "cell_type": "code",
   "execution_count": 10,
   "metadata": {},
   "outputs": [
    {
     "name": "stdout",
     "output_type": "stream",
     "text": [
      "Accuracy: 93.40%\n"
     ]
    },
    {
     "name": "stderr",
     "output_type": "stream",
     "text": [
      "C:\\Users\\srivastavas\\AppData\\Local\\Continuum\\anaconda3\\lib\\site-packages\\matplotlib\\figure.py:98: MatplotlibDeprecationWarning: \n",
      "Adding an axes using the same arguments as a previous axes currently reuses the earlier instance.  In a future version, a new instance will always be created and returned.  Meanwhile, this warning can be suppressed, and the future behavior ensured, by passing a unique label to each axes instance.\n",
      "  \"Adding an axes using the same arguments as a previous axes \"\n"
     ]
    },
    {
     "data": {
      "image/png": "[encoded data removed]",
      "text/plain": [
       "<Figure size 432x288 with 1 Axes>"
      ]
     },
     "metadata": {
      "needs_background": "light"
     },
     "output_type": "display_data"
    },
    {
     "data": {
      "text/plain": [
       "0.9340255191393545"
      ]
     },
     "execution_count": 10,
     "metadata": {},
     "output_type": "execute_result"
    }
   ],
   "source": [
    "def nn_model(X_train, X_val, X_test,y_train, y_val):\n",
    "    from sklearn.neural_network import MLPClassifier\n",
    "    from adspy_shared_utilities import plot_class_regions_for_classifier_subplot\n",
    "    from sklearn.metrics import roc_curve, auc\n",
    "    from sklearn.metrics import accuracy_score\n",
    "    \n",
    "    nnclf = MLPClassifier(hidden_layer_sizes = 100, solver='lbfgs', alpha=5.0,\n",
    "                         random_state = 0).fit(X_train, y_train)\n",
    "\n",
    "# make predictions for test data\n",
    "    y_pred = nnclf.predict(X_val)\n",
    "    predictions = [round(value) for value in y_pred]\n",
    "# evaluate predictions\n",
    "    accuracy = accuracy_score(y_val, predictions)\n",
    "    print(\"Accuracy: %.2f%%\" % (accuracy * 100.0))\n",
    "    \n",
    "    fpr_lr, tpr_lr, _ = roc_curve(y_val, predictions)\n",
    "    roc_auc_lr = auc(fpr_lr, tpr_lr)\n",
    "    \n",
    "    plt.figure()\n",
    "    plt.xlim([-0.01, 1.00])\n",
    "    plt.ylim([-0.01, 1.01])\n",
    "    plt.plot(fpr_lr, tpr_lr, lw=3, label='NN ROC curve (area = {:0.2f})'.format(roc_auc_lr))\n",
    "    plt.xlabel('False Positive Rate', fontsize=16)\n",
    "    plt.ylabel('True Positive Rate', fontsize=16)\n",
    "    plt.title('ROC curve', fontsize=16)\n",
    "    plt.legend(loc='lower right', fontsize=13)\n",
    "    plt.plot([0, 1], [0, 1], color='navy', lw=3, linestyle='--')\n",
    "    plt.axes().set_aspect('equal')\n",
    "    plt.show()\n",
    "    \n",
    "    return(accuracy)\n",
    "\n",
    "nn_model(X_train, X_val, X_test,y_train, y_val)\n",
    "\n",
    "    \n",
    "   "
   ]
  },
  {
   "cell_type": "code",
   "execution_count": null,
   "metadata": {},
   "outputs": [],
   "source": [
    "from sklearn.preprocessing import LabelEncoder\n",
    "dataset = data.values\n",
    "# split data into X and y\n",
    "X = dataset[:,0:4]\n",
    "Y = dataset[:,4]\n",
    "# encode string class values as integers\n",
    "encoded_x = None\n",
    "for i in range(0, X.shape[1]):\n",
    "\tlabel_encoder = LabelEncoder()\n",
    "\tfeature = label_encoder.fit_transform(X[:,i])\n",
    "\tfeature = feature.reshape(X.shape[0], 1)\n",
    "\tonehot_encoder = OneHotEncoder(sparse=False)\n",
    "\tfeature = onehot_encoder.fit_transform(feature)\n",
    "\tif encoded_x is None:\n",
    "\t\tencoded_x = feature\n",
    "\telse:\n",
    "\t\tencoded_x = numpy.concatenate((encoded_x, feature), axis=1)"
   ]
  }
 ],
 "metadata": {
  "coursera": {
   "course_slug": "python-machine-learning",
   "graded_item_id": "nNS8l",
   "launcher_item_id": "yWWk7",
   "part_id": "w8BSS"
  },
  "kernelspec": {
   "display_name": "Python 3",
   "language": "python",
   "name": "python3"
  },
  "language_info": {
   "codemirror_mode": {
    "name": "ipython",
    "version": 3
   },
   "file_extension": ".py",
   "mimetype": "text/x-python",
   "name": "python",
   "nbconvert_exporter": "python",
   "pygments_lexer": "ipython3",
   "version": "3.7.1"
  }
 },
 "nbformat": 4,
 "nbformat_minor": 2
}
